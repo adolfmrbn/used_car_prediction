{
 "cells": [
  {
   "cell_type": "markdown",
   "metadata": {},
   "source": [
    "# Categorical Data: Tables, Bar, Chart"
   ]
  },
  {
   "cell_type": "markdown",
   "metadata": {},
   "source": [
    "The most common way to visualize categorical data is with a bar chart. Another option is pie chart. But pie chart is not really recommended to use since there will be an overlapping label in it and also a similar portion of a circle. In categorical data, it is best to use frequency tables for numerical summaries and bar chart to visualization."
   ]
  },
  {
   "cell_type": "markdown",
   "metadata": {},
   "source": [
    "# Quantitative Data: Histograms"
   ]
  },
  {
   "cell_type": "markdown",
   "metadata": {},
   "source": [
    "Quantitave: numerical values that can perform mathematics operations on it. There are two types, quantitative discrete and quantitative continuous. Histogram is used due to its great analysis for data, quick view of data. Histogram has frequency for its y-axis, bins to determine how much data in a certain range in a data set. \n",
    "\n",
    "Four aspects of histogram:\n",
    "1. Shape: symmetric, left-skewed, right-skewed, bell-shaped\n",
    "    1. Bell-shaped --> defined to be unimodal because it has only one peak at the center.\n",
    "    2. Right-skewed --> can sometimes be bimodal and have long tail.\n",
    "2. Center: mean or median\n",
    "    1. For bell-shaped: median and mean are in the same point. \n",
    "    2. Right-skewed --> mean is going to be pulled to the right so that mean > median. \n",
    "3. Spread: how far our data spread. range, interquartile range, standard deviation, variance.\n",
    "    1. Range: max - min. \n",
    "4. Outlier: extreme points of data\n",
    "    1. Right-skewed: outlier is at the high-end of the distribution. \n",
    "\n",
    "Histogram description in one sentence : \"The distribution of adult male heights is roughly bell-shaped with a center of 68 inches, a range of 13, and no apparent outlier\". Histogram is not the same with bar chart (bar chart is used for categorical data, whereas histogram is used for quantitative data).\n",
    "\n",
    "Histogram summary: \"The distribution of exam scores is skewed left, centered at about 80 points with most scores being between 65 and 90, a range of roughly 85, and some outliers are present below 50 points. "
   ]
  },
  {
   "cell_type": "markdown",
   "metadata": {},
   "source": [
    "# Quantitative Data: Numerical Summaries"
   ]
  },
  {
   "cell_type": "markdown",
   "metadata": {},
   "source": [
    "Five number summary: minimum, 1st quartile, median, 3rd quartile, max.\n",
    "Meaning of 1st quartile of 66.5 : 25% of people in this study were 66.5 or below in height. \n",
    "IQR = Q3 - Q1, Interquartile range is another measure of spread. Standard deviation is approximately the average distance that our data points fall from the value. Also, median is not influenced by outliers, while mean is. \n",
    "\n",
    "Numerical summaries are called summary statistics: used alongside our graphical representation of data to give a first impression of what our data looks like. "
   ]
  },
  {
   "cell_type": "markdown",
   "metadata": {},
   "source": [
    "# Standard Scores: Empirical Rule"
   ]
  },
  {
   "cell_type": "markdown",
   "metadata": {},
   "source": [
    "Standard deviation: roughly the average distance of the values from their mean. Empirical rule: 68-95-99.7. \n",
    "\n",
    "Z-Score = (obs-mean)/std."
   ]
  },
  {
   "cell_type": "markdown",
   "metadata": {},
   "source": [
    "# Quantitative Data Graphical Summary: Boxplots"
   ]
  },
  {
   "cell_type": "markdown",
   "metadata": {},
   "source": [
    "Boxplots are useful for comparing sets of observations. Boxplot gives a very nice graphical picture of our five number summary.\n",
    "Notes: We can't see the underlying distribution from a box plot. We can only see five numbers and any outliers rather than being able to see the entire distribution."
   ]
  },
  {
   "cell_type": "markdown",
   "metadata": {},
   "source": [
    "Some quick tips for assessing how good the data in infographics are:\n",
    "\n",
    "Look for the source of the information. Are there competing interests?\n",
    "Check the scale of the data. Many pieces of information can be hidden or exaggerated based on how the scale is generated.\n",
    "While visualizations can be cute, think about how all dimensions of a graph scale. For example, scaling up the height of an object by two will quadruple the two dimensional volume."
   ]
  }
 ],
 "metadata": {
  "kernelspec": {
   "display_name": "Python 3",
   "language": "python",
   "name": "python3"
  },
  "language_info": {
   "codemirror_mode": {
    "name": "ipython",
    "version": 3
   },
   "file_extension": ".py",
   "mimetype": "text/x-python",
   "name": "python",
   "nbconvert_exporter": "python",
   "pygments_lexer": "ipython3",
   "version": "3.7.4"
  }
 },
 "nbformat": 4,
 "nbformat_minor": 2
}
